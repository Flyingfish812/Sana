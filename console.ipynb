{
 "cells": [
  {
   "cell_type": "code",
   "execution_count": null,
   "id": "6a1ec7bc",
   "metadata": {},
   "outputs": [],
   "source": [
    "from backend.dataio.utils.clickmap import run_click_gui\n",
    "run_click_gui(\"./masks/from_nb.json\", H=180, W=360,\n",
    "              bg_path=None, bg_channel=0,\n",
    "              vmax=None, vmin=None, max_points=10)\n"
   ]
  },
  {
   "cell_type": "markdown",
   "id": "a069b855",
   "metadata": {},
   "source": [
    "# 数据预处理+Dataloader"
   ]
  },
  {
   "cell_type": "code",
   "execution_count": null,
   "id": "e7180cb1",
   "metadata": {},
   "outputs": [],
   "source": [
    "# h5\n",
    "import yaml\n",
    "import backend.dataio as _\n",
    "from backend.dataio.api import run\n",
    "cfg = yaml.safe_load(open(\"examples/configs/h5_sparse.yaml\",\"r\"))\n",
    "dataset, dls, summary = run(cfg)"
   ]
  },
  {
   "cell_type": "code",
   "execution_count": null,
   "id": "e9fea49c",
   "metadata": {},
   "outputs": [],
   "source": [
    "# mat\n",
    "import yaml\n",
    "import backend.dataio as _\n",
    "from backend.dataio.api import run\n",
    "cfg = yaml.safe_load(open(\"examples/configs/mat_sparse.yaml\",\"r\"))\n",
    "dataset, dls, summary = run(cfg)"
   ]
  },
  {
   "cell_type": "code",
   "execution_count": null,
   "id": "60f8f5c3",
   "metadata": {},
   "outputs": [],
   "source": [
    "# nc\n",
    "import yaml\n",
    "import backend.dataio as _\n",
    "from backend.dataio.api import run\n",
    "cfg = yaml.safe_load(open(\"examples/configs/nc_sparse.yaml\",\"r\"))\n",
    "dataset, dls, summary = run(cfg)"
   ]
  },
  {
   "cell_type": "code",
   "execution_count": null,
   "id": "8b76f868",
   "metadata": {},
   "outputs": [],
   "source": [
    "from backend.dataio.viz.inspect import one_click_check\n",
    "one_click_check(dataset, dls, channel=\"omega\", n_batches=2)"
   ]
  },
  {
   "cell_type": "code",
   "execution_count": null,
   "id": "a4f8e972",
   "metadata": {},
   "outputs": [],
   "source": [
    "dls"
   ]
  },
  {
   "cell_type": "markdown",
   "id": "bbf4144b",
   "metadata": {},
   "source": [
    "# 训练单元"
   ]
  },
  {
   "cell_type": "code",
   "execution_count": null,
   "id": "421be248",
   "metadata": {},
   "outputs": [],
   "source": [
    "import yaml\n",
    "cfg = yaml.safe_load(open(\"examples/configs/epd_smoketest_unet.yaml\", \"r\"))\n",
    "\n",
    "train_dl = dls['train']\n",
    "val_dl   = dls['val']\n",
    "test_dl  = dls['test']\n",
    "\n",
    "from backend.model.testing.pipeline import run_model_smoketest\n",
    "model, paths = run_model_smoketest(cfg, train_dl, val_dl, test_dl)\n",
    "paths"
   ]
  },
  {
   "cell_type": "code",
   "execution_count": null,
   "id": "150b1c41",
   "metadata": {},
   "outputs": [],
   "source": [
    "# Smoke Test\n",
    "import yaml\n",
    "cfg = yaml.safe_load(open(\"examples/configs/epd_smoketest_unet.yaml\", \"r\"))\n",
    "\n",
    "train_dl = dls['train']\n",
    "val_dl   = dls['val']\n",
    "test_dl  = dls['test']\n",
    "\n",
    "from backend.train.smoke.pipeline import run_smoke\n",
    "model, paths = run_smoke(cfg, train_dl, val_dl, test_dl)\n",
    "paths\n"
   ]
  },
  {
   "cell_type": "code",
   "execution_count": null,
   "id": "72fa27da",
   "metadata": {},
   "outputs": [],
   "source": [
    "# Full Test\n",
    "import yaml\n",
    "cfg = yaml.safe_load(open(\"examples/configs/train_unet_full.yaml\", \"r\"))\n",
    "\n",
    "train_dl = dls['train']\n",
    "val_dl   = dls['val']\n",
    "test_dl  = dls['test']\n",
    "\n",
    "from backend.train.runner import run_training\n",
    "model, paths = run_training(cfg, train_dl, val_dl, test_dl)\n",
    "paths\n"
   ]
  }
 ],
 "metadata": {
  "kernelspec": {
   "display_name": "speit",
   "language": "python",
   "name": "python3"
  },
  "language_info": {
   "codemirror_mode": {
    "name": "ipython",
    "version": 3
   },
   "file_extension": ".py",
   "mimetype": "text/x-python",
   "name": "python",
   "nbconvert_exporter": "python",
   "pygments_lexer": "ipython3",
   "version": "3.11.5"
  }
 },
 "nbformat": 4,
 "nbformat_minor": 5
}
